{
 "cells": [
  {
   "cell_type": "markdown",
   "id": "989d73ca",
   "metadata": {},
   "source": [
    "## Opik configuration Guide\n",
    "\n",
    "This notebook demonstrates the basic usage of the `opik` library. We'll cover:\n",
    "\n",
    "- Logging test cases  \n",
    "- Running evaluations  \n",
    "- Viewing and saving results locally  \n",
    "- Evaluating Opik metrics through the Trace metrics API\n"
   ]
  },
  {
   "cell_type": "code",
   "execution_count": null,
   "id": "4fbddecd",
   "metadata": {},
   "outputs": [],
   "source": [
    "!pip install opik"
   ]
  },
  {
   "cell_type": "code",
   "execution_count": null,
   "id": "4fe3b3d8",
   "metadata": {},
   "outputs": [],
   "source": [
    "import os\n",
    "OPENAI_API_KEY = \"your_openai_api_key_here\"\n",
    "os.environ[\"OPENAI_API_KEY\"] = OPENAI_API_KEY"
   ]
  },
  {
   "cell_type": "markdown",
   "id": "4afd6fe6",
   "metadata": {},
   "source": [
    "### Metric Evaluation Using `opik.evaluation.metrics`\n",
    "\n",
    "This script evaluates the similarity and moderation quality of a generated text (`output`) compared to a reference text (`reference`) using the `opik.evaluation.metrics` package.\n",
    "\n",
    "#### Inputs\n",
    "\n",
    "- **Output**: A sample response that might come from a language model.\n",
    "- **Reference**: A human-written or expected answer used for comparison.\n",
    "\n",
    "#### Metrics Used\n",
    "\n",
    "- **Equals**: Checks if the output and reference are equal, ignoring case sensitivity.\n",
    "- **Moderation**: Evaluates the moderation compliance of the output (e.g., safety, appropriateness).\n",
    "\n",
    "#### Processing Flow\n",
    "\n",
    "1. A list of metric instances is created.\n",
    "2. Each metric is applied to the `output` and `reference`.\n",
    "3. The result (`.value`) from each metric is stored in a dictionary for easy access.\n"
   ]
  },
  {
   "cell_type": "code",
   "execution_count": 4,
   "id": "bfc415c0",
   "metadata": {},
   "outputs": [],
   "source": [
    "from opik.evaluation.metrics import Equals, Moderation, GEval\n",
    "from datetime import datetime, timezone\n",
    "\n",
    "# Example output and reference\n",
    "output = \"\"\"Paris is the capital of France and one of the most visited cities in the world. \n",
    "While some tourists express concerns about safety in certain neighborhoods, Paris remains a vibrant and welcoming city. \n",
    "Visitors are advised to stay vigilant, especially in crowded areas, but overall, the city is considered safe for travelers.\"\"\"\n",
    "reference = \"\"\"Paris is the capital of France and a major tourist destination. \n",
    "While no city is entirely without risk, Paris is generally safe for visitors who take standard precautions.\"\"\"\n",
    "\n",
    "metrics = [\n",
    "    Equals(case_sensitive=False),\n",
    "    Moderation()\n",
    "]\n",
    "\n",
    "metric_results = {}\n",
    "for m in metrics:\n",
    "    if isinstance(m, Equals):\n",
    "        result = m.score(output=output, reference=reference)\n",
    "    elif isinstance(m, Moderation):\n",
    "        result = m.score(output=output, reference=reference)\n",
    "    else:\n",
    "        continue\n",
    "    metric_results[m.__class__.__name__] = result.value\n",
    "\n"
   ]
  },
  {
   "cell_type": "code",
   "execution_count": 5,
   "id": "6f15cc66",
   "metadata": {},
   "outputs": [
    {
     "name": "stdout",
     "output_type": "stream",
     "text": [
      "Metric Results: {'Equals': 0.0, 'Moderation': 0.0}\n"
     ]
    }
   ],
   "source": [
    "print(\"Metric Results:\", metric_results)"
   ]
  },
  {
   "cell_type": "markdown",
   "id": "6e389a1d",
   "metadata": {},
   "source": [
    "## How to get your subscription key for the TRACE Metrics API\n",
    "\n",
    "To access the TRACE Metrics API, you need a **subscription key**. Follow these steps:\n",
    "\n",
    "1. **Sign in to CognitiveView**  \n",
    "   Go to [app.cognitiveview.com](https://app.cognitiveview.com) and log in with your account credentials.\n",
    "\n",
    "2. **Navigate to System Settings**  \n",
    "   Once logged in, find the **System Settings** option in the main menu.\n",
    "\n",
    "3. **Generate and view your subscription key**  \n",
    "   - Inside **System Settings**, look for the section labeled **API Access** or **Subscription Key**.\n",
    "   - If a key has already been generated, you can copy it directly.\n",
    "   - If not, click the **Generate Key** button to create a new key.\n",
    "\n",
    "4. **Copy and save your subscription key**  \n",
    "   Keep this key secure. You’ll need to include it in your API requests for authentication.\n",
    "\n",
    "---\n",
    "\n",
    "## Posting Evaluation Metrics to TRACE Metrics API\n",
    "\n",
    "This script sends your evaluation metric results (for example, from DeepEval) to the TRACE Metrics API using an authenticated HTTP POST request.\n",
    "\n",
    "### Authentication\n",
    "\n",
    "- Use an **Authorization token** (`AUTH_TOKEN`) in the request header.\n",
    "\n",
    "\n",
    "---\n",
    "\n",
    "### Endpoint\n",
    "\n",
    "| Item         | Value                                                      |\n",
    "|--------------|-----------------------------------------------------------|\n",
    "| **Base URL** | `https://api.cognitiveview.com`                            |\n",
    "| **API Path** | `/metrics`                                          |\n",
    "| **Full URL** | `https://api.cognitiveview.com/metrics`             |\n",
    "\n",
    "---\n",
    "\n",
    "### Payload Structure\n",
    "\n",
    "#### `metric_metadata`\n",
    "\n",
    "Contains information about what you’re evaluating:\n",
    "- `application_name`: Name of the evaluated application.\n",
    "- `version`: Version of the application or model.\n",
    "- `provider`: The metric system or platform (for example, `deepeval`).\n",
    "- `use_case`: The business or functional domain (for example, `customer_support`).\n"
   ]
  },
  {
   "cell_type": "code",
   "execution_count": null,
   "id": "bc79b84b",
   "metadata": {},
   "outputs": [],
   "source": [
    "import requests\n",
    "\n",
    "BASE_URL = \"https://api.cognitiveview.com\"\n",
    "AUTH_TOKEN =\"Your Token\"  # Replace with your actual token\n",
    "url = f\"{BASE_URL}/metrics\"\n",
    "\n",
    "headers = {\n",
    "    \"Ocp-Apim-Subscription-Key\": AUTH_TOKEN,\n",
    "    \"Content-Type\": \"application/json\",\n",
    "}\n",
    "\n",
    "payload = {\n",
    "  \"metric_metadata\": {\n",
    "    \"application_name\": \"chat-application\",\n",
    "    \"version\": \"1.0.0\",\n",
    "    \"eval_provider\": \"opik\",\n",
    "    \"use_case\": \"transportation\"\n",
    "  },\n",
    "  \"metric_data\": {\n",
    "    \"opik\": metric_results\n",
    "  } \n",
    "}\n",
    "\n",
    "response = requests.post(url, headers=headers, json=payload)\n",
    "\n",
    "# Output the response\n",
    "print(f\"Status Code: {response.status_code}\")\n",
    "print(\"Response JSON:\", response.json())"
   ]
  }
 ],
 "metadata": {
  "kernelspec": {
   "display_name": "Python 3",
   "language": "python",
   "name": "python3"
  },
  "language_info": {
   "codemirror_mode": {
    "name": "ipython",
    "version": 3
   },
   "file_extension": ".py",
   "mimetype": "text/x-python",
   "name": "python",
   "nbconvert_exporter": "python",
   "pygments_lexer": "ipython3",
   "version": "3.12.0"
  }
 },
 "nbformat": 4,
 "nbformat_minor": 5
}
